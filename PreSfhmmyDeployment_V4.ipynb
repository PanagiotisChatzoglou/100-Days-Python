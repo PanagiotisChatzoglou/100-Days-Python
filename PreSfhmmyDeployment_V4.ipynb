{
  "cells": [
    {
      "cell_type": "markdown",
      "metadata": {
        "id": "view-in-github",
        "colab_type": "text"
      },
      "source": [
        "<a href=\"https://colab.research.google.com/github/PanagiotisChatzoglou/100-Days-Python/blob/main/PreSfhmmyDeployment_V4.ipynb\" target=\"_parent\"><img src=\"https://colab.research.google.com/assets/colab-badge.svg\" alt=\"Open In Colab\"/></a>"
      ]
    },
    {
      "cell_type": "markdown",
      "metadata": {
        "id": "7hPNM_JWH9aF"
      },
      "source": [
        "# Setup Environment"
      ]
    },
    {
      "cell_type": "code",
      "execution_count": 5,
      "metadata": {
        "colab": {
          "base_uri": "https://localhost:8080/"
        },
        "id": "vkYG09XUEBbp",
        "outputId": "dfcbeca2-e52c-4a64-e6a8-42e53c07bbd9"
      },
      "outputs": [
        {
          "output_type": "stream",
          "name": "stdout",
          "text": [
            "env: UID=6530f9263773c5f7858b6b33\n"
          ]
        }
      ],
      "source": [
        "%env UID=683ef1e4c03ba2f496486d2f"
      ]
    },
    {
      "cell_type": "code",
      "execution_count": 6,
      "metadata": {
        "collapsed": true,
        "id": "HQ3zMDUoDAqi",
        "outputId": "3229e240-bc55-49d7-f047-b52501208a4c",
        "colab": {
          "base_uri": "https://localhost:8080/"
        }
      },
      "outputs": [
        {
          "output_type": "stream",
          "name": "stdout",
          "text": [
            "\u001b[33m\r0% [Working]\u001b[0m\r            \rHit:1 https://cloud.r-project.org/bin/linux/ubuntu jammy-cran40/ InRelease\n",
            "Hit:2 https://developer.download.nvidia.com/compute/cuda/repos/ubuntu2204/x86_64  InRelease\n",
            "Hit:3 http://security.ubuntu.com/ubuntu jammy-security InRelease\n",
            "Hit:4 http://archive.ubuntu.com/ubuntu jammy InRelease\n",
            "Hit:5 https://r2u.stat.illinois.edu/ubuntu jammy InRelease\n",
            "Hit:6 http://archive.ubuntu.com/ubuntu jammy-updates InRelease\n",
            "Hit:7 http://archive.ubuntu.com/ubuntu jammy-backports InRelease\n",
            "Hit:8 https://ppa.launchpadcontent.net/deadsnakes/ppa/ubuntu jammy InRelease\n",
            "Hit:9 https://ppa.launchpadcontent.net/graphics-drivers/ppa/ubuntu jammy InRelease\n",
            "Hit:10 https://ppa.launchpadcontent.net/ubuntugis/ppa/ubuntu jammy InRelease\n",
            "Reading package lists... Done\n",
            "Building dependency tree... Done\n",
            "Reading state information... Done\n",
            "4 packages can be upgraded. Run 'apt list --upgradable' to see them.\n",
            "\u001b[1;33mW: \u001b[0mSkipping acquire of configured file 'main/source/Sources' as repository 'https://r2u.stat.illinois.edu/ubuntu jammy InRelease' does not seem to provide it (sources.list entry misspelt?)\u001b[0m\n",
            "Reading package lists... Done\n",
            "Building dependency tree... Done\n",
            "Reading state information... Done\n",
            "Calculating upgrade... Done\n",
            "The following packages have been kept back:\n",
            "  libcudnn9-cuda-12 libcudnn9-dev-cuda-12 libnccl-dev libnccl2\n",
            "0 upgraded, 0 newly installed, 0 to remove and 4 not upgraded.\n",
            "Reading package lists... Done\n",
            "Building dependency tree... Done\n",
            "Reading state information... Done\n",
            "redis-server is already the newest version (5:6.0.16-1ubuntu1).\n",
            "software-properties-common is already the newest version (0.99.22.9).\n",
            "0 upgraded, 0 newly installed, 0 to remove and 4 not upgraded.\n",
            "Starting redis-server: redis-server.\n",
            "  Installing build dependencies ... \u001b[?25l\u001b[?25hdone\n",
            "  Getting requirements to build wheel ... \u001b[?25l\u001b[?25hdone\n",
            "  Preparing metadata (pyproject.toml) ... \u001b[?25l\u001b[?25hdone\n",
            "  Preparing metadata (setup.py) ... \u001b[?25l\u001b[?25hdone\n",
            "fatal: destination path 'streamsim' already exists and is not an empty directory.\n",
            "HEAD is now at 9fef498 Removed collisions between automated vehicles\n",
            "Requirement already satisfied: redis in /usr/local/lib/python3.11/dist-packages (from -r requirements.txt (line 2)) (5.3.0)\n",
            "Requirement already satisfied: pyyaml in /usr/local/lib/python3.11/dist-packages (from -r requirements.txt (line 3)) (6.0.2)\n",
            "Requirement already satisfied: numpy in /usr/local/lib/python3.11/dist-packages (from -r requirements.txt (line 4)) (2.0.2)\n",
            "Requirement already satisfied: wave in /usr/local/lib/python3.11/dist-packages (from -r requirements.txt (line 5)) (0.0.2)\n",
            "Requirement already satisfied: opencv-python in /usr/local/lib/python3.11/dist-packages (from -r requirements.txt (line 7)) (4.11.0.86)\n",
            "Requirement already satisfied: python-dotenv in /usr/local/lib/python3.11/dist-packages (from -r requirements.txt (line 8)) (1.0.1)\n",
            "Requirement already satisfied: pytest in /usr/local/lib/python3.11/dist-packages (from -r requirements.txt (line 9)) (8.3.5)\n",
            "Requirement already satisfied: qrcode[pil] in /usr/local/lib/python3.11/dist-packages (from -r requirements.txt (line 6)) (8.2)\n",
            "Requirement already satisfied: PyJWT~=2.9.0 in /usr/local/lib/python3.11/dist-packages (from redis->-r requirements.txt (line 2)) (2.9.0)\n",
            "Requirement already satisfied: pillow>=9.1.0 in /usr/local/lib/python3.11/dist-packages (from qrcode[pil]->-r requirements.txt (line 6)) (11.2.1)\n",
            "Requirement already satisfied: iniconfig in /usr/local/lib/python3.11/dist-packages (from pytest->-r requirements.txt (line 9)) (2.1.0)\n",
            "Requirement already satisfied: packaging in /usr/local/lib/python3.11/dist-packages (from pytest->-r requirements.txt (line 9)) (24.2)\n",
            "Requirement already satisfied: pluggy<2,>=1.5 in /usr/local/lib/python3.11/dist-packages (from pytest->-r requirements.txt (line 9)) (1.6.0)\n",
            "Processing /content/streamsim\n",
            "  Preparing metadata (setup.py) ... \u001b[?25l\u001b[?25hdone\n",
            "Building wheels for collected packages: streamsim\n",
            "  Building wheel for streamsim (setup.py) ... \u001b[?25l\u001b[?25hdone\n",
            "  Created wheel for streamsim: filename=streamsim-0.1.0-py3-none-any.whl size=160533 sha256=096572fff646022444ec4ec446c1827c38cbabd0bc7c91141ad7c4534dd126e6\n",
            "  Stored in directory: /tmp/pip-ephem-wheel-cache-kku6mns6/wheels/6d/e6/6f/f47e0f89d839a44b74509ca844c17a3825159389848659fec8\n",
            "Successfully built streamsim\n",
            "Installing collected packages: streamsim\n",
            "  Attempting uninstall: streamsim\n",
            "    Found existing installation: streamsim 0.1.0\n",
            "    Uninstalling streamsim-0.1.0:\n",
            "      Successfully uninstalled streamsim-0.1.0\n",
            "Successfully installed streamsim-0.1.0\n",
            "fatal: destination path 'appmaker-executor' already exists and is not an empty directory.\n",
            "fatal: destination path 'goal-dsl' already exists and is not an empty directory.\n",
            "fatal: destination path 'goaldsl-executor' already exists and is not an empty directory.\n"
          ]
        }
      ],
      "source": [
        "!apt update && apt upgrade && apt-get install -y software-properties-common redis-server\n",
        "!service redis-server start\n",
        "\n",
        "!pip install https://github.com/robotics-4-all/commlib-py/archive/devel.zip -Uq\n",
        "!pip install https://github.com/robotics-4-all/goalee/archive/devel.zip -Uq\n",
        "\n",
        "!git clone https://github.com/robotics-4-all/streamsim.git\n",
        "!cd streamsim/ && git checkout tags/v0.7.0\n",
        "!cd streamsim/ && pip3 install -r requirements.txt\n",
        "!cd streamsim && pip3 install .\n",
        "\n",
        "!bash -c '[ ! -z appmaker-executor ] && git clone https://github.com/robotics-4-all/appmaker-executor.git'\n",
        "!bash -c '[ ! -z goal-dsl ] && git clone https://github.com/robotics-4-all/goal-dsl.git && cd goal-dsl && git checkout hackathon_2025 && pip install .'\n",
        "!bash -c '[ ! -z goaldsl-executor ] && git clone https://github.com/robotics-4-all/goaldsl-executor.git && cd goaldsl-executor && git checkout hackathon_2025 && pip install -r requirements.txt'"
      ]
    },
    {
      "cell_type": "markdown",
      "metadata": {
        "id": "QvMgpISBfd6n"
      },
      "source": [
        "# Start Executors"
      ]
    },
    {
      "cell_type": "code",
      "execution_count": 3,
      "metadata": {
        "colab": {
          "base_uri": "https://localhost:8080/"
        },
        "collapsed": true,
        "id": "c6SQhANZf1g2",
        "outputId": "f6e1a00f-2e0f-4f22-c918-85bb0f3d79a0"
      },
      "outputs": [
        {
          "output_type": "stream",
          "name": "stdout",
          "text": [
            "env: USE_REDIS=1\n",
            "env: BROKER_TYPE=MQTT\n",
            "env: BROKER_HOST=locsys.issel.ee.auth.gr\n",
            "env: BROKER_PORT=8883\n",
            "env: BROKER_SSL=True\n",
            "env: BROKER_USERNAME=sensors\n",
            "env: BROKER_PASSWORD=issel.sensors\n",
            "env: HEARTBEATS=False\n",
            "env: DEBUG=False\n",
            "env: WAIT_FOR_EXECUTION_TERMINATION=False\n",
            "env: GOALDSL_ZERO_LOGS=0\n",
            "env: GOALDSL_LOG_LEVEL=CRITICAL\n",
            "env: STREAMSIM_ZERO_LOGS=0\n",
            "env: STREAMSIM_LOG_LEVEL=CRITICAL\n",
            "env: APPMAKER_ZERO_LOGS=1\n",
            "env: APPMAKER_LOG_LEVEL=CRITICAL\n",
            "READY !!!\n",
            "==> goalexecutor.log <==\n",
            "\n",
            "==> appexecutor.log <==\n",
            "\n",
            "==> streamsim.log <==\n",
            "CRITICAL : stream_simulator.simulator : Simulator UID is: 6530f9263773c5f7858b6b33\n",
            "\n",
            "==> appexecutor.log <==\n",
            "Connected to broker\n",
            "^C\n"
          ]
        }
      ],
      "source": [
        "# Setup and Deploy required Executors\n",
        "%env USE_REDIS=1\n",
        "\n",
        "%env BROKER_TYPE=MQTT\n",
        "%env BROKER_HOST=locsys.issel.ee.auth.gr\n",
        "%env BROKER_PORT=8883\n",
        "%env BROKER_SSL=True\n",
        "%env BROKER_USERNAME=sensors\n",
        "%env BROKER_PASSWORD=issel.sensors\n",
        "%env HEARTBEATS=False\n",
        "%env DEBUG=False\n",
        "%env WAIT_FOR_EXECUTION_TERMINATION=False\n",
        "\n",
        "%env GOALDSL_ZERO_LOGS=0\n",
        "%env GOALDSL_LOG_LEVEL=CRITICAL\n",
        "%env STREAMSIM_ZERO_LOGS=0\n",
        "%env STREAMSIM_LOG_LEVEL=CRITICAL\n",
        "%env APPMAKER_ZERO_LOGS=1\n",
        "%env APPMAKER_LOG_LEVEL=CRITICAL\n",
        "\n",
        "\n",
        "# Setup and Deploy StreamSim\n",
        "!bash -c '[ -f streamsim.pid ] && pid=$(cat streamsim.pid) && kill $pid'\n",
        "!nohup python3 streamsim/stream_simulator/bin/main.py ${UID} > streamsim.log 2>&1 & echo $! > streamsim.pid\n",
        "\n",
        "# Setup and Deploy AppMaker-Executor\n",
        "!bash -c '[ -f appexecutor.pid ] && pid=$(cat appexecutor.pid) && kill $pid'\n",
        "!nohup python appmaker-executor/appmakerexecutor/src/appmakerexecutor/appmaker.py ${UID} > appexecutor.log 2>&1 & echo $! > appexecutor.pid\n",
        "\n",
        "# Setup and Deploy GoalDSL-Executor\n",
        "!bash -c '[ -f goalexecutor.pid ] && pid=$(cat goalexecutor.pid) && kill $pid'\n",
        "!nohup python goaldsl-executor/executor.py > goalexecutor.log 2>&1 & echo $! > goalexecutor.pid\n",
        "\n",
        "print(\"READY !!!\")\n",
        "# Check for errors\n",
        "!tail -f goalexecutor.log appexecutor.log streamsim.log # | grep -E \"error|warning|Error|Warning|ERROR|WARNING|Reconnecting in\""
      ]
    },
    {
      "cell_type": "markdown",
      "metadata": {
        "id": "pK3IvQbCfzO9"
      },
      "source": [
        "# Kill All"
      ]
    },
    {
      "cell_type": "code",
      "execution_count": 4,
      "metadata": {
        "id": "zj6RY-jqgCjJ"
      },
      "outputs": [],
      "source": [
        "!bash -c '[ -f streamsim.pid ] && pid=$(cat streamsim.pid) && kill $pid'\n",
        "!bash -c '[ -f appexecutor.pid ] && pid=$(cat appexecutor.pid) && kill $pid'\n",
        "!bash -c '[ -f goalexecutor.pid ] && pid=$(cat goalexecutor.pid) && kill $pid'"
      ]
    }
  ],
  "metadata": {
    "colab": {
      "provenance": [],
      "include_colab_link": true
    },
    "kernelspec": {
      "display_name": "Python 3",
      "name": "python3"
    },
    "language_info": {
      "name": "python"
    }
  },
  "nbformat": 4,
  "nbformat_minor": 0
}